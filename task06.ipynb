{
 "cells": [
  {
   "cell_type": "code",
   "execution_count": 1,
   "id": "5a28e538-a2de-48d1-8e78-d97e84f97046",
   "metadata": {},
   "outputs": [],
   "source": [
    "## task06"
   ]
  },
  {
   "cell_type": "markdown",
   "id": "062a6263-f470-47b2-a19b-9b71c2babd28",
   "metadata": {},
   "source": [
    "# 1.自定义损失函数"
   ]
  },
  {
   "cell_type": "code",
   "execution_count": 19,
   "id": "79ef2c7e-5a54-46b7-a6c6-f88254674cef",
   "metadata": {},
   "outputs": [],
   "source": [
    "import torch\n",
    "import torch.nn as nn\n",
    "import numpy as np"
   ]
  },
  {
   "cell_type": "markdown",
   "id": "93c6dc81-5ad0-4711-8a4c-a63fedb663a7",
   "metadata": {},
   "source": [
    "## 函数"
   ]
  },
  {
   "cell_type": "code",
   "execution_count": 3,
   "id": "19cdd48a-de12-40e2-aeba-18c607299ec6",
   "metadata": {},
   "outputs": [],
   "source": [
    "def my_loss(output, target):\n",
    "    loss = torch.mean((output - target)**2)\n",
    "    return loss\n"
   ]
  },
  {
   "cell_type": "markdown",
   "id": "b73e0689-1ad4-407f-b5ce-ad9b2ce6c1dc",
   "metadata": {},
   "source": [
    "## 类"
   ]
  },
  {
   "cell_type": "markdown",
   "id": "f4c0c334-8634-4cdd-9d26-4923883fb526",
   "metadata": {},
   "source": [
    "### MSE"
   ]
  },
  {
   "cell_type": "code",
   "execution_count": 16,
   "id": "78ab29ee-dad4-426f-87a1-3dfecf330193",
   "metadata": {},
   "outputs": [],
   "source": [
    "class My_loss(nn.Module):\n",
    "    def __init__(self):\n",
    "        super().__init__()   #没有需要保存的参数和状态信息\n",
    "        \n",
    "    def forward(self, x, y):  # 定义前向的函数运算即可\n",
    "        return torch.mean(torch.pow((x - y), 2))\n"
   ]
  },
  {
   "cell_type": "code",
   "execution_count": null,
   "id": "b38e90ae-2e16-4813-b36f-ece924537269",
   "metadata": {},
   "outputs": [],
   "source": []
  },
  {
   "cell_type": "markdown",
   "id": "825dc22e-6790-4d80-96b0-2b33d7e3cd2c",
   "metadata": {},
   "source": [
    "### DiceLoss"
   ]
  },
  {
   "cell_type": "code",
   "execution_count": 17,
   "id": "d369c45d-aa68-40af-a66d-166be152daf5",
   "metadata": {},
   "outputs": [],
   "source": [
    "class DiceLoss(nn.Module):\n",
    "    def __init__(self,weight=None,size_average=True):\n",
    "        super(DiceLoss,self).__init__()\n",
    "        \n",
    "    def forward(self,inputs,targets,smooth=1):\n",
    "        inputs = F.sigmoid(inputs)       \n",
    "        inputs = inputs.view(-1)\n",
    "        targets = targets.view(-1)\n",
    "        intersection = (inputs * targets).sum()                   \n",
    "        dice = (2.*intersection + smooth)/(inputs.sum() + targets.sum() + smooth)  \n",
    "        return 1 - dice\n",
    "\n",
    "# 使用方法    \n",
    "# criterion = DiceLoss()\n",
    "# loss = criterion(input,targets)"
   ]
  },
  {
   "cell_type": "markdown",
   "id": "83b7fa06-0bd3-4ee9-9f8b-b6e3b89bf274",
   "metadata": {},
   "source": [
    "loss函数：BCE-Dice Loss，Jaccard/Intersection over Union (IoU) Loss，Focal Loss......"
   ]
  },
  {
   "cell_type": "markdown",
   "id": "54143ec1-c0dd-495d-b400-0a58ad44a285",
   "metadata": {},
   "source": [
    "### DiceBCELoss"
   ]
  },
  {
   "cell_type": "code",
   "execution_count": 20,
   "id": "d6c0812d-69ee-4b04-be71-14ae52478d23",
   "metadata": {},
   "outputs": [],
   "source": [
    "class DiceBCELoss(nn.Module):\n",
    "    def __init__(self, weight=None, size_average=True):\n",
    "        super(DiceBCELoss, self).__init__()\n",
    "\n",
    "    def forward(self, inputs, targets, smooth=1):\n",
    "        inputs = F.sigmoid(inputs)       \n",
    "        inputs = inputs.view(-1)\n",
    "        targets = targets.view(-1)\n",
    "        intersection = (inputs * targets).sum()                     \n",
    "        dice_loss = 1 - (2.*intersection + smooth)/(inputs.sum() + targets.sum() + smooth)  \n",
    "        BCE = F.binary_cross_entropy(inputs, targets, reduction='mean')\n",
    "        Dice_BCE = BCE + dice_loss\n",
    "        \n",
    "        return Dice_BCE"
   ]
  },
  {
   "cell_type": "markdown",
   "id": "35f3611f-01ef-43c8-a0e4-572f2513b801",
   "metadata": {},
   "source": [
    "### IoULoss"
   ]
  },
  {
   "cell_type": "code",
   "execution_count": 21,
   "id": "f9a910f6-2c66-4556-aa38-73cfa1bdacd5",
   "metadata": {},
   "outputs": [],
   "source": [
    "class IoULoss(nn.Module):\n",
    "    def __init__(self, weight=None, size_average=True):\n",
    "        super(IoULoss, self).__init__()\n",
    "\n",
    "    def forward(self, inputs, targets, smooth=1):\n",
    "        inputs = F.sigmoid(inputs)       \n",
    "        inputs = inputs.view(-1)\n",
    "        targets = targets.view(-1)\n",
    "        intersection = (inputs * targets).sum()\n",
    "        total = (inputs + targets).sum()\n",
    "        union = total - intersection \n",
    "        \n",
    "        IoU = (intersection + smooth)/(union + smooth)\n",
    "                \n",
    "        return 1 - IoU"
   ]
  },
  {
   "cell_type": "markdown",
   "id": "bb327e9e-2dca-4d65-a15d-50118aeb5889",
   "metadata": {},
   "source": [
    "### FocalLoss"
   ]
  },
  {
   "cell_type": "code",
   "execution_count": 24,
   "id": "07a52f1c-ef9a-4fe2-81d3-a79bff7b3dd3",
   "metadata": {},
   "outputs": [],
   "source": [
    "ALPHA = 0.8\n",
    "GAMMA = 2\n",
    "\n",
    "class FocalLoss(nn.Module):\n",
    "    def __init__(self, weight=None, size_average=True):\n",
    "        super(FocalLoss, self).__init__()\n",
    "\n",
    "    def forward(self, inputs, targets, alpha=ALPHA, gamma=GAMMA, smooth=1):\n",
    "        inputs = F.sigmoid(inputs)       \n",
    "        inputs = inputs.view(-1)\n",
    "        targets = targets.view(-1)\n",
    "        BCE = F.binary_cross_entropy(inputs, targets, reduction='mean')\n",
    "        BCE_EXP = torch.exp(-BCE)\n",
    "        focal_loss = alpha * (1-BCE_EXP)**gamma * BCE\n",
    "                       \n",
    "        return focal_loss"
   ]
  },
  {
   "cell_type": "markdown",
   "id": "da206cd4-103e-4608-a1f6-4891030d76ee",
   "metadata": {},
   "source": []
  },
  {
   "cell_type": "markdown",
   "id": "fe288dde-cc4d-4579-ae74-44436d9e68d0",
   "metadata": {},
   "source": [
    "## 测试"
   ]
  },
  {
   "cell_type": "code",
   "execution_count": 25,
   "id": "b5e1811a-ccd2-4bdc-b644-b1452a207331",
   "metadata": {},
   "outputs": [],
   "source": [
    "# step1:自定义损失函数\n",
    "# step2:准备数据集\n",
    "# 准备数据集，模拟一个线性拟合过程\n",
    "x_train = np.array([[3.3], [4.4], [5.5], [6.71], [6.93], [4.168], \n",
    "                    [9.779], [6.182], [7.59], [2.167], [7.042], \n",
    "                    [10.791], [5.313], [7.997], [3.1]], dtype=np.float32)\n",
    " \n",
    "y_train = np.array([[1.7], [2.76], [2.09], [3.19], [1.694], [1.573], \n",
    "                    [3.366], [2.596], [2.53], [1.221], [2.827], \n",
    "                    [3.465], [1.65], [2.904], [1.3]], dtype=np.float32)\n",
    " \n",
    "# 将numpy数据转化为torch的张量\n",
    "inputs = torch.from_numpy(x_train)\n",
    "targets = torch.from_numpy(y_train)"
   ]
  },
  {
   "cell_type": "code",
   "execution_count": 26,
   "id": "bb1c9a4e-1704-4aab-b6cd-cd65e0d4d9ea",
   "metadata": {},
   "outputs": [],
   "source": [
    "# step3:构建模型\n",
    "input_size = 1\n",
    "output_size = 1\n",
    "num_epochs = 60\n",
    "learning_rate = 0.001\n",
    " \n",
    "# 构建模型，构建一个一层的网络模型\n",
    "model = nn.Linear(input_size, output_size)\n",
    " \n",
    "# 与模型相关的配置、损失函数、优化方式\n",
    "# 使用自定义函数，等价于criterion = nn.MSELoss()\n",
    "criterion = My_loss()  #IoULoss\n",
    " \n",
    "# 定义迭代优化算法， 使用的是随机梯度下降算法\n",
    "optimizer = torch.optim.SGD(model.parameters(), lr=learning_rate)  "
   ]
  },
  {
   "cell_type": "code",
   "execution_count": 27,
   "id": "899ad375-b2df-4b6d-b306-ec27a72d54ce",
   "metadata": {},
   "outputs": [
    {
     "name": "stdout",
     "output_type": "stream",
     "text": [
      "Epoch [5/60], Loss: 7.1327\n",
      "Epoch [10/60], Loss: 3.0103\n",
      "Epoch [15/60], Loss: 1.3402\n",
      "Epoch [20/60], Loss: 0.6636\n",
      "Epoch [25/60], Loss: 0.3894\n",
      "Epoch [30/60], Loss: 0.2783\n",
      "Epoch [35/60], Loss: 0.2332\n",
      "Epoch [40/60], Loss: 0.2149\n",
      "Epoch [45/60], Loss: 0.2075\n",
      "Epoch [50/60], Loss: 0.2044\n",
      "Epoch [55/60], Loss: 0.2031\n",
      "Epoch [60/60], Loss: 0.2025\n"
     ]
    }
   ],
   "source": [
    "# step4：训练模型\n",
    "loss_history = []\n",
    "# 训练模型，迭代训练\n",
    "for epoch in range(num_epochs):\n",
    "    #  前向传播计算网络结构的输出结果\n",
    "    outputs = model(inputs)\n",
    " \n",
    "    # 计算损失函数\n",
    "    loss = criterion(outputs, targets)\n",
    "    \n",
    "    # 反向传播更新参数，三步策略，归零梯度——>反向传播——>更新参数\n",
    "    optimizer.zero_grad()\n",
    "    loss.backward()\n",
    "    optimizer.step()\n",
    " \n",
    "    # 打印训练信息和保存loss\n",
    "    loss_history.append(loss.item()) \n",
    "    if (epoch+1) % 5 == 0:\n",
    "        print ('Epoch [{}/{}], Loss: {:.4f}'.format(epoch+1, num_epochs, loss.item()))"
   ]
  },
  {
   "cell_type": "code",
   "execution_count": 29,
   "id": "553c56ef-919d-4ca6-9d4c-deb475796d0f",
   "metadata": {},
   "outputs": [
    {
     "data": {
      "image/png": "[encoded data removed]",
      "text/plain": [
       "<Figure size 432x288 with 1 Axes>"
      ]
     },
     "metadata": {
      "needs_background": "light"
     },
     "output_type": "display_data"
    },
    {
     "data": {
      "image/png": "[encoded data removed]",
      "text/plain": [
       "<Figure size 432x288 with 1 Axes>"
      ]
     },
     "metadata": {
      "needs_background": "light"
     },
     "output_type": "display_data"
    }
   ],
   "source": [
    "# step5：结果展示。画出原y与x的曲线与网络结构拟合后的曲线\n",
    "import matplotlib.pyplot as plt\n",
    "\n",
    "predicted = model(torch.from_numpy(x_train)).detach().numpy() #模型输出结果\n",
    " \n",
    "plt.plot(x_train, y_train, 'ro', label='Original data')       #原始数据\n",
    "plt.plot(x_train, predicted, label='Fitted line')             #拟合之后的直线\n",
    "plt.legend()\n",
    "plt.show()\n",
    " \n",
    "# 画loss在迭代过程中的变化情况\n",
    "plt.plot(loss_history, label='loss for every epoch')\n",
    "plt.legend()\n",
    "plt.show()"
   ]
  },
  {
   "cell_type": "code",
   "execution_count": null,
   "id": "95b0a874-d855-4215-a13a-f5420a4f0053",
   "metadata": {},
   "outputs": [],
   "source": []
  },
  {
   "cell_type": "markdown",
   "id": "6a911f60-a147-4ecb-af9c-0ade4d89e37b",
   "metadata": {},
   "source": [
    "# 2.动态调整学习率"
   ]
  },
  {
   "cell_type": "markdown",
   "id": "2aecb63a-fbfb-4259-ae5c-02794cc8a11e",
   "metadata": {},
   "source": [
    "通过一个适当的学习率衰减策略来改善这种现象，提高我们的精度"
   ]
  },
  {
   "cell_type": "markdown",
   "id": "96c2002e-7d7f-4402-a368-ad84e5b1da5e",
   "metadata": {},
   "source": [
    "## 使用官方scheduler"
   ]
  },
  {
   "cell_type": "markdown",
   "id": "553573c6-4f75-42ca-907a-5becce37ab2b",
   "metadata": {},
   "source": [
    "### 简介&使用"
   ]
  },
  {
   "cell_type": "markdown",
   "id": "8a2a31f1-16c7-4652-b18c-e9f3599c3418",
   "metadata": {},
   "source": [
    "torch.optim.lr_scheduler 封装了一些动态调整学习率的方法：\n",
    "https://pytorch.org/docs/stable/generated/torch.optim.lr_scheduler\n",
    "- lr_scheduler.LambdaLR\n",
    "- lr_scheduler.MultiplicativeLR\n",
    "- lr_scheduler.StepLR\n",
    "- lr_scheduler.MultiStepLR\n",
    "- lr_scheduler.ExponentialLR\n",
    "- lr_scheduler.CosineAnnealingLR\n",
    "- lr_scheduler.ReduceLROnPlateau\n",
    "- lr_scheduler.CyclicLR\n",
    "- lr_scheduler.OneCycleLR\n",
    "- lr_scheduler.CosineAnnealingWarmRestarts"
   ]
  },
  {
   "cell_type": "markdown",
   "id": "deef1e6e-71d4-461a-a090-7039cc027da8",
   "metadata": {
    "tags": []
   },
   "source": [
    "选择一种优化器\n",
    "optimizer = torch.optim.Adam(...) \\n\n",
    "\n",
    "选择上面提到的一种或多种动态调整学习率的方法\n",
    "\n",
    "scheduler1 = torch.optim.lr_scheduler \n",
    "\n",
    "scheduler2 = torch.optim.lr_scheduler\n",
    "...\n",
    "\n",
    "schedulern = torch.optim.lr_scheduler\n",
    "\n",
    "进行训练\n",
    "for epoch in range(100):\n",
    "    train(...)\n",
    "    validate(...)\n",
    "    optimizer.step()\n",
    "    # 需要在优化器参数更新之后再动态调整学习率\n",
    "    scheduler1.step() \n",
    "    ...\n",
    "    schedulern.step()"
   ]
  },
  {
   "cell_type": "markdown",
   "id": "7a7f5c13-ca59-46e2-9496-154c8fca9ce5",
   "metadata": {},
   "source": [
    "## 自定义scheduler"
   ]
  },
  {
   "cell_type": "markdown",
   "id": "964c9699-b9ee-4255-9b44-7db5a8e6ac52",
   "metadata": {},
   "source": [
    "通过自定义函数`adjust_learning_rate`来改变`param_group`中`lr`的值"
   ]
  },
  {
   "cell_type": "code",
   "execution_count": null,
   "id": "6ffa3163-03f1-4c20-84bd-f1acede91008",
   "metadata": {},
   "outputs": [],
   "source": [
    "def adjust_learning_rate(optimizer, epoch):\n",
    "    lr = args.lr * (0.1 ** (epoch // 30))\n",
    "    for param_group in optimizer.param_groups:\n",
    "        param_group['lr'] = lr\n",
    "        \n",
    "#调用\n",
    "optimizer = torch.optim.SGD(model.parameters(),lr = args.lr,momentum = 0.9)\n",
    "for epoch in range(10):\n",
    "    train(...)\n",
    "    validate(...)\n",
    "    adjust_learning_rate(optimizer,epoch)"
   ]
  },
  {
   "cell_type": "code",
   "execution_count": null,
   "id": "2d3cbf94-0f31-4e4b-94ef-ae97993c5e04",
   "metadata": {},
   "outputs": [],
   "source": []
  },
  {
   "cell_type": "markdown",
   "id": "1af35527-b465-44e0-a4be-27c11ccb17a3",
   "metadata": {},
   "source": [
    "# 3.模型微调"
   ]
  },
  {
   "cell_type": "markdown",
   "id": "4964854d-d415-4396-8354-e4eacfbf1190",
   "metadata": {},
   "source": [
    "原因：适用于大数据集的开源模型如果直接应用于实际中，可能会出现过拟合的情况，借助迁移学习的方法，进行模型微调。"
   ]
  },
  {
   "cell_type": "markdown",
   "id": "c4dabda5-8da8-4fcb-bcf3-dc221ef86e4b",
   "metadata": {},
   "source": [
    "## 流程"
   ]
  },
  {
   "cell_type": "code",
   "execution_count": null,
   "id": "b948c4b8-fab1-46a7-b2c2-e12c3ab517c7",
   "metadata": {},
   "outputs": [],
   "source": []
  },
  {
   "cell_type": "markdown",
   "id": "33c2ea07-2880-4be8-a97d-f284b322e49d",
   "metadata": {},
   "source": [
    "## 使用已有模型结构"
   ]
  },
  {
   "cell_type": "markdown",
   "id": "f43e92c7-2965-4d04-bbb8-3c4eac4921cf",
   "metadata": {},
   "source": [
    "### 实例化网络"
   ]
  },
  {
   "cell_type": "code",
   "execution_count": 34,
   "id": "44bc13e1-9781-428b-bd44-fe159344fbbf",
   "metadata": {},
   "outputs": [
    {
     "name": "stderr",
     "output_type": "stream",
     "text": [
      "D:\\software\\anaconda\\lib\\site-packages\\torchvision\\models\\inception.py:44: FutureWarning: The default weight initialization of inception_v3 will be changed in future releases of torchvision. If you wish to keep the old behavior (which leads to long initialization times due to scipy/scipy#11299), please set init_weights=True.\n",
      "  warnings.warn(\n",
      "D:\\software\\anaconda\\lib\\site-packages\\torchvision\\models\\googlenet.py:46: FutureWarning: The default weight initialization of GoogleNet will be changed in future releases of torchvision. If you wish to keep the old behavior (which leads to long initialization times due to scipy/scipy#11299), please set init_weights=True.\n",
      "  warnings.warn(\n"
     ]
    }
   ],
   "source": [
    "import torchvision.models as models\n",
    "resnet18 = models.resnet18()\n",
    "# resnet18 = models.resnet18(pretrained=False)  等价于与上面的表达式\n",
    "alexnet = models.alexnet()\n",
    "vgg16 = models.vgg16()\n",
    "squeezenet = models.squeezenet1_0()\n",
    "densenet = models.densenet161()\n",
    "inception = models.inception_v3()\n",
    "googlenet = models.googlenet()\n",
    "shufflenet = models.shufflenet_v2_x1_0()\n",
    "mobilenet_v2 = models.mobilenet_v2()\n",
    "mobilenet_v3_large = models.mobilenet_v3_large()\n",
    "mobilenet_v3_small = models.mobilenet_v3_small()\n",
    "resnext50_32x4d = models.resnext50_32x4d()\n",
    "wide_resnet50_2 = models.wide_resnet50_2()\n",
    "mnasnet = models.mnasnet1_0()"
   ]
  },
  {
   "cell_type": "markdown",
   "id": "245a62a4-21e0-4286-8aa4-f378948cdd90",
   "metadata": {},
   "source": [
    "### 传递`pretrained`参数"
   ]
  },
  {
   "cell_type": "markdown",
   "id": "529193c9-1bb8-43e8-8ccc-0389f5506afb",
   "metadata": {},
   "source": [
    "通过`True`或者`False`来决定是否使用预训练好的权重，在默认状态下`pretrained = False`，意味着我们不使用预训练得到的权重，当`pretrained = True`，意味着我们将使用在一些数据集上预训练得到的权重。"
   ]
  },
  {
   "cell_type": "code",
   "execution_count": null,
   "id": "620a7336-1a86-4029-90da-ef44819f7877",
   "metadata": {},
   "outputs": [
    {
     "name": "stderr",
     "output_type": "stream",
     "text": [
      "Downloading: \"https://download.pytorch.org/models/resnet18-f37072fd.pth\" to C:\\Users\\Administrator/.cache\\torch\\hub\\checkpoints\\resnet18-f37072fd.pth\n"
     ]
    },
    {
     "data": {
      "application/vnd.jupyter.widget-view+json": {
       "model_id": "31acfc13f31f47208f2412821682ff39",
       "version_major": 2,
       "version_minor": 0
      },
      "text/plain": [
       "  0%|          | 0.00/44.7M [00:00<?, ?B/s]"
      ]
     },
     "metadata": {},
     "output_type": "display_data"
    },
    {
     "name": "stderr",
     "output_type": "stream",
     "text": [
      "Downloading: \"https://download.pytorch.org/models/alexnet-owt-7be5be79.pth\" to C:\\Users\\Administrator/.cache\\torch\\hub\\checkpoints\\alexnet-owt-7be5be79.pth\n"
     ]
    },
    {
     "data": {
      "application/vnd.jupyter.widget-view+json": {
       "model_id": "89f45d2ddbf34ac39bce836d94b28d30",
       "version_major": 2,
       "version_minor": 0
      },
      "text/plain": [
       "  0%|          | 0.00/233M [00:00<?, ?B/s]"
      ]
     },
     "metadata": {},
     "output_type": "display_data"
    }
   ],
   "source": [
    "import torchvision.models as models\n",
    "resnet18 = models.resnet18(pretrained=True)\n",
    "alexnet = models.alexnet(pretrained=True)\n",
    "squeezenet = models.squeezenet1_0(pretrained=True)\n",
    "vgg16 = models.vgg16(pretrained=True)\n",
    "densenet = models.densenet161(pretrained=True)\n",
    "inception = models.inception_v3(pretrained=True)\n",
    "googlenet = models.googlenet(pretrained=True)\n",
    "shufflenet = models.shufflenet_v2_x1_0(pretrained=True)\n",
    "mobilenet_v2 = models.mobilenet_v2(pretrained=True)\n",
    "mobilenet_v3_large = models.mobilenet_v3_large(pretrained=True)\n",
    "mobilenet_v3_small = models.mobilenet_v3_small(pretrained=True)\n",
    "resnext50_32x4d = models.resnext50_32x4d(pretrained=True)\n",
    "wide_resnet50_2 = models.wide_resnet50_2(pretrained=True)\n",
    "mnasnet = models.mnasnet1_0(pretrained=True)"
   ]
  },
  {
   "cell_type": "markdown",
   "id": "8d66508f-108e-4f97-846f-7dd6682465af",
   "metadata": {},
   "source": [
    "**注意事项：**\n",
    "1. 通常PyTorch模型的扩展为`.pt`或`.pth`，程序运行时会首先检查默认路径中是否有已经下载的模型权重，一旦权重被下载，下次加载就不需要下载了。\n",
    "2. 一般情况下预训练模型的下载会比较慢，我们可以直接通过迅雷或者其他方式去 [这里](https://github.com/pytorch/vision/tree/master/torchvision/models) 查看自己的模型里面`model_urls`，然后手动下载，预训练模型的权重在`Linux`和`Mac`的默认下载路径是用户根目录下的`.cache`文件夹。在`Windows`下就是`C:\\Users\\<username>\\.cache\\torch\\hub\\checkpoint`。我们可以通过使用 [`torch.utils.model_zoo.load_url()`](https://pytorch.org/docs/stable/model_zoo.html#torch.utils.model_zoo.load_url)设置权重的下载地址。\n",
    "3. 如果觉得麻烦，还可以将自己的权重下载下来放到同文件夹下，然后再将参数加载网络。\n",
    "4.如果中途强行停止下载的话，一定要去对应路径下将权重文件删除干净，要不然可能会报错"
   ]
  },
  {
   "cell_type": "code",
   "execution_count": null,
   "id": "9457db26-6f8e-4e96-a2fb-1ac21977bbf8",
   "metadata": {},
   "outputs": [],
   "source": [
    "self.model = models.resnet50(pretrained=False)\n",
    "self.model.load_state_dict(torch.load('./model/resnet50-19c8e357.pth'))"
   ]
  },
  {
   "cell_type": "markdown",
   "id": "e4644da3-53fe-4454-b154-46b10c98bd75",
   "metadata": {},
   "source": [
    "## 训练特定层"
   ]
  },
  {
   "cell_type": "markdown",
   "id": "39c652c6-3eaa-420a-807e-408073afa653",
   "metadata": {},
   "source": [
    "当提取特征并且为新初始化的层计算梯度，其他参数不进行改变。则需要通过设置`requires_grad = False`来冻结部分层"
   ]
  },
  {
   "cell_type": "code",
   "execution_count": null,
   "id": "bb41db13-8bf8-4bc9-ad21-06f1c9b31c82",
   "metadata": {},
   "outputs": [],
   "source": [
    "def set_parameter_requires_grad(model, feature_extracting):\n",
    "    if feature_extracting:\n",
    "        for param in model.parameters():\n",
    "            param.requires_grad = False"
   ]
  },
  {
   "cell_type": "code",
   "execution_count": null,
   "id": "93763c9c-e293-4a92-9984-c91f22ed205c",
   "metadata": {},
   "outputs": [],
   "source": [
    "#`resnet18`为例"
   ]
  },
  {
   "cell_type": "code",
   "execution_count": null,
   "id": "bd31376d-25bd-4439-8311-56f46cfb94a2",
   "metadata": {},
   "outputs": [],
   "source": [
    "import torchvision.models as models\n",
    "# 冻结参数的梯度\n",
    "feature_extract = True\n",
    "model = models.resnet18(pretrained=True)\n",
    "set_parameter_requires_grad(model, feature_extract)\n",
    "# 修改模型\n",
    "num_ftrs = model.fc.in_features\n",
    "model.fc = nn.Linear(in_features=512, out_features=4, bias=True)"
   ]
  },
  {
   "cell_type": "code",
   "execution_count": null,
   "id": "288643d6-cca8-455e-b91b-43384a5daf4b",
   "metadata": {},
   "outputs": [],
   "source": []
  },
  {
   "cell_type": "markdown",
   "id": "172cf4ad-a91c-43ab-ad5f-82fe40f34e65",
   "metadata": {},
   "source": [
    "# 4.半精度训练"
   ]
  },
  {
   "cell_type": "markdown",
   "id": "c9c7d857-eec3-4ff5-b345-740c52e7d994",
   "metadata": {},
   "source": [
    "GPU的性能主要分为两部分：算力和显存，前者决定了显卡计算的速度，后者则决定了显卡可以同时放入多少数据用于计算。如何合理使用显存在训练中十分重要。"
   ]
  },
  {
   "cell_type": "markdown",
   "id": "65acebc5-1517-4a17-8abf-dfc3463ae273",
   "metadata": {},
   "source": [
    "## 半精度训练的设置"
   ]
  },
  {
   "cell_type": "markdown",
   "id": "69f4f717-a867-470c-b518-5ee51f9e5604",
   "metadata": {},
   "source": [
    "- **import autocast**：from torch.cuda.amp import autocast\n",
    "- **模型设置**\n",
    "@autocast()   \n",
    "def forward(self, x):\n",
    "    ...\n",
    "    return x\n",
    "- **训练过程**"
   ]
  },
  {
   "cell_type": "code",
   "execution_count": null,
   "id": "715508d5-b17b-49b8-bb66-3bc4a05a4faf",
   "metadata": {},
   "outputs": [],
   "source": [
    " for x in train_loader:\n",
    "    x = x.cuda()\n",
    "    with autocast():\n",
    "        output = model(x)\n",
    "        ..."
   ]
  }
 ],
 "metadata": {
  "kernelspec": {
   "display_name": "Python 3",
   "language": "python",
   "name": "python3"
  },
  "language_info": {
   "codemirror_mode": {
    "name": "ipython",
    "version": 3
   },
   "file_extension": ".py",
   "mimetype": "text/x-python",
   "name": "python",
   "nbconvert_exporter": "python",
   "pygments_lexer": "ipython3",
   "version": "3.8.8"
  },
  "widgets": {
   "application/vnd.jupyter.widget-state+json": {
    "state": {
     "1c9adb60b1674ae8ba35d7953c244e8d": {
      "model_module": "@jupyter-widgets/controls",
      "model_module_version": "1.5.0",
      "model_name": "HTMLModel",
      "state": {
       "layout": "IPY_MODEL_552ae66453404f2a83f11ebe50bcfd53",
       "style": "IPY_MODEL_a62c10afd05a4b218822d0abd3edb1a5",
       "value": "100%"
      }
     },
     "203b92ec8bd1470184cbbde8404eb046": {
      "model_module": "@jupyter-widgets/base",
      "model_module_version": "1.2.0",
      "model_name": "LayoutModel",
      "state": {}
     },
     "21c679cb7cce43e4a888da6f203807dc": {
      "model_module": "@jupyter-widgets/base",
      "model_module_version": "1.2.0",
      "model_name": "LayoutModel",
      "state": {}
     },
     "31acfc13f31f47208f2412821682ff39": {
      "model_module": "@jupyter-widgets/controls",
      "model_module_version": "1.5.0",
      "model_name": "HBoxModel",
      "state": {
       "children": [
        "IPY_MODEL_1c9adb60b1674ae8ba35d7953c244e8d",
        "IPY_MODEL_4b44f8b0769e4b5590a421089e5a0170",
        "IPY_MODEL_d14d38dd636542aba36936fe100cc016"
       ],
       "layout": "IPY_MODEL_fbaab79e874a423c82af9de27e708d46"
      }
     },
     "4b44f8b0769e4b5590a421089e5a0170": {
      "model_module": "@jupyter-widgets/controls",
      "model_module_version": "1.5.0",
      "model_name": "FloatProgressModel",
      "state": {
       "bar_style": "success",
       "layout": "IPY_MODEL_203b92ec8bd1470184cbbde8404eb046",
       "max": 46830571,
       "style": "IPY_MODEL_9803f690624b4575a6a68b4ddb343c74",
       "value": 46830571
      }
     },
     "4b6e00189749483cb600dc406018b8ae": {
      "model_module": "@jupyter-widgets/controls",
      "model_module_version": "1.5.0",
      "model_name": "DescriptionStyleModel",
      "state": {
       "description_width": ""
      }
     },
     "552ae66453404f2a83f11ebe50bcfd53": {
      "model_module": "@jupyter-widgets/base",
      "model_module_version": "1.2.0",
      "model_name": "LayoutModel",
      "state": {}
     },
     "63c12e1559cd4578b2b6916628fea850": {
      "model_module": "@jupyter-widgets/base",
      "model_module_version": "1.2.0",
      "model_name": "LayoutModel",
      "state": {}
     },
     "6dbe234aaa5d44fc940ace28a0f407e6": {
      "model_module": "@jupyter-widgets/base",
      "model_module_version": "1.2.0",
      "model_name": "LayoutModel",
      "state": {}
     },
     "7dcd0a059e444fdca81d40cd5e77da5d": {
      "model_module": "@jupyter-widgets/controls",
      "model_module_version": "1.5.0",
      "model_name": "DescriptionStyleModel",
      "state": {
       "description_width": ""
      }
     },
     "89f45d2ddbf34ac39bce836d94b28d30": {
      "model_module": "@jupyter-widgets/controls",
      "model_module_version": "1.5.0",
      "model_name": "HBoxModel",
      "state": {
       "children": [
        "IPY_MODEL_ef64cd6f6ac64f29823a494e8113d9d9",
        "IPY_MODEL_a86e9a8911254a8ab5b366e5ebd16b7e",
        "IPY_MODEL_9e565c7739a24575822b16877fc904cd"
       ],
       "layout": "IPY_MODEL_21c679cb7cce43e4a888da6f203807dc"
      }
     },
     "9803f690624b4575a6a68b4ddb343c74": {
      "model_module": "@jupyter-widgets/controls",
      "model_module_version": "1.5.0",
      "model_name": "ProgressStyleModel",
      "state": {
       "description_width": ""
      }
     },
     "99f4ed88c7fc48be8470e0410611d337": {
      "model_module": "@jupyter-widgets/base",
      "model_module_version": "1.2.0",
      "model_name": "LayoutModel",
      "state": {}
     },
     "9e565c7739a24575822b16877fc904cd": {
      "model_module": "@jupyter-widgets/controls",
      "model_module_version": "1.5.0",
      "model_name": "HTMLModel",
      "state": {
       "layout": "IPY_MODEL_63c12e1559cd4578b2b6916628fea850",
       "style": "IPY_MODEL_b2eba58925174bcabcc87990ce0f8d45",
       "value": " 37.4M/233M [15:12&lt;511:27:45, 111B/s]"
      }
     },
     "a62c10afd05a4b218822d0abd3edb1a5": {
      "model_module": "@jupyter-widgets/controls",
      "model_module_version": "1.5.0",
      "model_name": "DescriptionStyleModel",
      "state": {
       "description_width": ""
      }
     },
     "a86e9a8911254a8ab5b366e5ebd16b7e": {
      "model_module": "@jupyter-widgets/controls",
      "model_module_version": "1.5.0",
      "model_name": "FloatProgressModel",
      "state": {
       "layout": "IPY_MODEL_dfdb8c6a16794014a476f26e43827610",
       "max": 244408911,
       "style": "IPY_MODEL_d62844e3b9ef4206900b0f31c86ebcb7",
       "value": 39165952
      }
     },
     "b2eba58925174bcabcc87990ce0f8d45": {
      "model_module": "@jupyter-widgets/controls",
      "model_module_version": "1.5.0",
      "model_name": "DescriptionStyleModel",
      "state": {
       "description_width": ""
      }
     },
     "d14d38dd636542aba36936fe100cc016": {
      "model_module": "@jupyter-widgets/controls",
      "model_module_version": "1.5.0",
      "model_name": "HTMLModel",
      "state": {
       "layout": "IPY_MODEL_99f4ed88c7fc48be8470e0410611d337",
       "style": "IPY_MODEL_7dcd0a059e444fdca81d40cd5e77da5d",
       "value": " 44.7M/44.7M [00:14&lt;00:00, 2.84MB/s]"
      }
     },
     "d62844e3b9ef4206900b0f31c86ebcb7": {
      "model_module": "@jupyter-widgets/controls",
      "model_module_version": "1.5.0",
      "model_name": "ProgressStyleModel",
      "state": {
       "description_width": ""
      }
     },
     "dfdb8c6a16794014a476f26e43827610": {
      "model_module": "@jupyter-widgets/base",
      "model_module_version": "1.2.0",
      "model_name": "LayoutModel",
      "state": {}
     },
     "ef64cd6f6ac64f29823a494e8113d9d9": {
      "model_module": "@jupyter-widgets/controls",
      "model_module_version": "1.5.0",
      "model_name": "HTMLModel",
      "state": {
       "layout": "IPY_MODEL_6dbe234aaa5d44fc940ace28a0f407e6",
       "style": "IPY_MODEL_4b6e00189749483cb600dc406018b8ae",
       "value": " 16%"
      }
     },
     "fbaab79e874a423c82af9de27e708d46": {
      "model_module": "@jupyter-widgets/base",
      "model_module_version": "1.2.0",
      "model_name": "LayoutModel",
      "state": {}
     }
    },
    "version_major": 2,
    "version_minor": 0
   }
  }
 },
 "nbformat": 4,
 "nbformat_minor": 5
}
